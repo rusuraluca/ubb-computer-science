{
 "cells": [
  {
   "cell_type": "markdown",
   "id": "opposite-dream",
   "metadata": {},
   "source": [
    "# A.I. Assignment 1\n",
    "\n",
    "Set up and familiarize with some Python packages. A simple application with random numbers.\n",
    "\n",
    "For this assignment you have these tasks:\n",
    "1. Prepare the working environment\n",
    "1. Get familiarized with  Numpy (create and manipulate arrays)\n",
    "1. Get familiarized with  Matplotlib  (display various graphics)\n",
    "1. Get familiarized with  Pytorch tensors (creation and manipulation)\n",
    "1. Get familiarized with  PIL/PILLOW (python image library)\n",
    "1. An application: Bertrand's paradox (probability)  \n",
    "\n",
    "## Task 1 - Prepare the working environment\n",
    "\n",
    "In order to present the solved tasks from the laboratories a Jupyter notebook is preferred. For this prepare the working environment as follows:  \n",
    "\n",
    "Install Anaconda distribution and navigator. Create a new  environment aiclasses  and inside this environment install: numpy, matplotlib,  pytorch, pillow.\n",
    "\n",
    "Environments in Python are like sandboxes that have different versions of Python and/or packages installed in them. You can create, export, list, remove, and update environments. Anaconda allows easy management for these. \n",
    "Here are the links for the packages’ documentations if you need further references:  \n",
    "\n",
    "[Pytorch](https://pytorch.org/)\n",
    "[Pillow](https://pillow.readthedocs.io/en/stable/)\n",
    "[Numpy](https://numpy.org/)\n",
    "[Matplotlib](https://matplotlib.org/)\n",
    "\n",
    "After these setups install jupyter notebook and launch it. Create a new notebook related to python 3. \n",
    "\t\n"
   ]
  },
  {
   "cell_type": "markdown",
   "id": "injured-telephone",
   "metadata": {},
   "source": [
    "## Task 2 -- Get familiarized with Numpy (create and manipulate arrays)"
   ]
  },
  {
   "cell_type": "code",
   "execution_count": null,
   "id": "protecting-status",
   "metadata": {},
   "outputs": [],
   "source": [
    "import numpy as np"
   ]
  },
  {
   "cell_type": "code",
   "execution_count": 4,
   "id": "pharmaceutical-disaster",
   "metadata": {
    "scrolled": true
   },
   "outputs": [
    {
     "ename": "NameError",
     "evalue": "name 'np' is not defined",
     "output_type": "error",
     "traceback": [
      "\u001B[0;31m---------------------------------------------------------------------------\u001B[0m",
      "\u001B[0;31mNameError\u001B[0m                                 Traceback (most recent call last)",
      "Cell \u001B[0;32mIn[4], line 1\u001B[0m\n\u001B[0;32m----> 1\u001B[0m my_array \u001B[38;5;241m=\u001B[39m \u001B[43mnp\u001B[49m\u001B[38;5;241m.\u001B[39marray([\u001B[38;5;241m1\u001B[39m, \u001B[38;5;241m2\u001B[39m, \u001B[38;5;241m3\u001B[39m, \u001B[38;5;241m4\u001B[39m])\n\u001B[1;32m      2\u001B[0m \u001B[38;5;66;03m# works as it would with a standard list\u001B[39;00m\n\u001B[1;32m      3\u001B[0m \u001B[38;5;28mlen\u001B[39m(my_array)\n",
      "\u001B[0;31mNameError\u001B[0m: name 'np' is not defined"
     ]
    }
   ],
   "source": [
    "my_array = np.array([1, 2, 3, 4])\n",
    "# works as it would with a standard list\n",
    "len(my_array)"
   ]
  },
  {
   "cell_type": "markdown",
   "id": "precise-safety",
   "metadata": {},
   "source": [
    "The shape array of an array is very useful (we'll see more of it later when we talk about 2D arrays -- matrices -- and higher-dimensional arrays)."
   ]
  },
  {
   "cell_type": "code",
   "execution_count": 3,
   "id": "south-smell",
   "metadata": {},
   "outputs": [
    {
     "data": {
      "text/plain": [
       "(4,)"
      ]
     },
     "execution_count": 3,
     "metadata": {},
     "output_type": "execute_result"
    }
   ],
   "source": [
    "my_array.shape"
   ]
  },
  {
   "cell_type": "markdown",
   "id": "tender-football",
   "metadata": {},
   "source": [
    "Numpy arrays are typed. This means that by default, all the elements will be assumed to be of the same type (e.g., integer, float, String)."
   ]
  },
  {
   "cell_type": "code",
   "execution_count": 4,
   "id": "terminal-loading",
   "metadata": {},
   "outputs": [
    {
     "data": {
      "text/plain": [
       "dtype('int32')"
      ]
     },
     "execution_count": 4,
     "metadata": {},
     "output_type": "execute_result"
    }
   ],
   "source": [
    "my_array.dtype"
   ]
  },
  {
   "cell_type": "markdown",
   "id": "announced-passenger",
   "metadata": {},
   "source": [
    "Numpy arrays have similar functionality as lists! Below, we compute the length, slice the array, and iterate through it (one could identically perform the same with a list)."
   ]
  },
  {
   "cell_type": "code",
   "execution_count": 7,
   "id": "brave-buyer",
   "metadata": {},
   "outputs": [
    {
     "name": "stdout",
     "output_type": "stream",
     "text": [
      "4\n",
      "[3 4]\n",
      "1\n",
      "2\n",
      "3\n",
      "4\n"
     ]
    }
   ],
   "source": [
    "print(len(my_array))\n",
    "print(my_array[2:4])\n",
    "for element in my_array:\n",
    "    print(element)"
   ]
  },
  {
   "cell_type": "markdown",
   "id": "breathing-premises",
   "metadata": {},
   "source": [
    "There are two ways to manipulate numpy arrays: \n",
    "\n",
    "1. by using the numpy module's methods (e.g., `np.mean()`)\n",
    "1. by applying the function `np.mean()` with the numpy array as an argument."
   ]
  },
  {
   "cell_type": "code",
   "execution_count": 8,
   "id": "proud-adobe",
   "metadata": {},
   "outputs": [
    {
     "name": "stdout",
     "output_type": "stream",
     "text": [
      "2.5\n",
      "2.5\n"
     ]
    }
   ],
   "source": [
    "print(my_array.mean())\n",
    "print(np.mean(my_array))"
   ]
  },
  {
   "cell_type": "markdown",
   "id": "deadly-divorce",
   "metadata": {},
   "source": [
    "There are many other efficient ways to construct numpy arrays. Here are some commonly used numpy array constructors. Read more details in the numpy documentation."
   ]
  },
  {
   "cell_type": "code",
   "execution_count": 9,
   "id": "looking-voluntary",
   "metadata": {},
   "outputs": [
    {
     "data": {
      "text/plain": [
       "array([1., 1., 1., 1., 1., 1., 1., 1., 1., 1.])"
      ]
     },
     "execution_count": 9,
     "metadata": {},
     "output_type": "execute_result"
    }
   ],
   "source": [
    "np.ones(10) # generates 10 floating point ones"
   ]
  },
  {
   "cell_type": "markdown",
   "id": "considerable-adaptation",
   "metadata": {},
   "source": [
    "Numpy gains a lot of its efficiency from being typed. That is, all elements in the array have the same type, such as integer or floating point. The default type, as can be seen above, is a float. (Each float uses either 32 or 64 bits of memory, depending on if the code is running a 32-bit or 64-bit machine, respectively)."
   ]
  },
  {
   "cell_type": "code",
   "execution_count": 10,
   "id": "cultural-memphis",
   "metadata": {},
   "outputs": [
    {
     "data": {
      "text/plain": [
       "8"
      ]
     },
     "execution_count": 10,
     "metadata": {},
     "output_type": "execute_result"
    }
   ],
   "source": [
    "np.dtype(float).itemsize # in bytes (remember, 1 byte = 8 bits)"
   ]
  },
  {
   "cell_type": "code",
   "execution_count": 11,
   "id": "monetary-reset",
   "metadata": {},
   "outputs": [
    {
     "data": {
      "text/plain": [
       "array([1, 1, 1, 1, 1, 1, 1, 1, 1, 1])"
      ]
     },
     "execution_count": 11,
     "metadata": {},
     "output_type": "execute_result"
    }
   ],
   "source": [
    "np.ones(10, dtype='int') # generates 10 integer ones"
   ]
  },
  {
   "cell_type": "code",
   "execution_count": 12,
   "id": "illegal-stable",
   "metadata": {},
   "outputs": [
    {
     "data": {
      "text/plain": [
       "array([0., 0., 0., 0., 0., 0., 0., 0., 0., 0.])"
      ]
     },
     "execution_count": 12,
     "metadata": {},
     "output_type": "execute_result"
    }
   ],
   "source": [
    "np.zeros(10)"
   ]
  },
  {
   "cell_type": "markdown",
   "id": "addressed-shadow",
   "metadata": {},
   "source": [
    "Often, you will want random numbers. Use the random constructor!"
   ]
  },
  {
   "cell_type": "code",
   "execution_count": 13,
   "id": "applicable-gross",
   "metadata": {},
   "outputs": [
    {
     "data": {
      "text/plain": [
       "array([0.50929916, 0.99934203, 0.02767909, 0.79934657, 0.38465927,\n",
       "       0.56439711, 0.52433838, 0.08889742, 0.18240995, 0.36137475])"
      ]
     },
     "execution_count": 13,
     "metadata": {},
     "output_type": "execute_result"
    }
   ],
   "source": [
    "np.random.random(10) # uniform from [0,1]"
   ]
  },
  {
   "cell_type": "markdown",
   "id": "victorian-sitting",
   "metadata": {},
   "source": [
    "You can generate random numbers from a normal distribution with mean 0 and variance 1:"
   ]
  },
  {
   "cell_type": "code",
   "execution_count": 14,
   "id": "amended-handy",
   "metadata": {},
   "outputs": [
    {
     "name": "stdout",
     "output_type": "stream",
     "text": [
      "The sample mean and standard devation are -0.034809 and 0.999227, respectively.\n"
     ]
    }
   ],
   "source": [
    "normal_array = np.random.randn(1000)\n",
    "print(\"The sample mean and standard devation are %f and %f, respectively.\" %(np.mean(normal_array), np.std(normal_array)))"
   ]
  },
  {
   "cell_type": "code",
   "execution_count": 15,
   "id": "miniature-thumb",
   "metadata": {},
   "outputs": [
    {
     "data": {
      "text/plain": [
       "1000"
      ]
     },
     "execution_count": 15,
     "metadata": {},
     "output_type": "execute_result"
    }
   ],
   "source": [
    "len(normal_array)"
   ]
  },
  {
   "cell_type": "markdown",
   "id": "immune-clinic",
   "metadata": {},
   "source": [
    "You can sample with and without replacement from an array. Let's first construct a list with evenly-spaced values:"
   ]
  },
  {
   "cell_type": "code",
   "execution_count": 17,
   "id": "soviet-excerpt",
   "metadata": {},
   "outputs": [
    {
     "data": {
      "text/plain": [
       "array([0. , 0.1, 0.2, 0.3, 0.4, 0.5, 0.6, 0.7, 0.8, 0.9, 1. ])"
      ]
     },
     "execution_count": 17,
     "metadata": {},
     "output_type": "execute_result"
    }
   ],
   "source": [
    "grid = np.arange(0., 1.01, 0.1)\n",
    "grid"
   ]
  },
  {
   "cell_type": "markdown",
   "id": "silver-vertical",
   "metadata": {},
   "source": [
    "Without replacement"
   ]
  },
  {
   "cell_type": "code",
   "execution_count": 18,
   "id": "tropical-hypothetical",
   "metadata": {},
   "outputs": [
    {
     "data": {
      "text/plain": [
       "array([0.1, 0.9, 0.3, 1. , 0.6])"
      ]
     },
     "execution_count": 18,
     "metadata": {},
     "output_type": "execute_result"
    }
   ],
   "source": [
    "np.random.choice(grid, 5, replace=False)"
   ]
  },
  {
   "cell_type": "code",
   "execution_count": 19,
   "id": "vulnerable-regular",
   "metadata": {},
   "outputs": [
    {
     "ename": "ValueError",
     "evalue": "Cannot take a larger sample than population when 'replace=False'",
     "output_type": "error",
     "traceback": [
      "\u001B[1;31m---------------------------------------------------------------------------\u001B[0m",
      "\u001B[1;31mValueError\u001B[0m                                Traceback (most recent call last)",
      "\u001B[1;32m<ipython-input-19-9eae7c9e97b5>\u001B[0m in \u001B[0;36m<module>\u001B[1;34m\u001B[0m\n\u001B[1;32m----> 1\u001B[1;33m \u001B[0mnp\u001B[0m\u001B[1;33m.\u001B[0m\u001B[0mrandom\u001B[0m\u001B[1;33m.\u001B[0m\u001B[0mchoice\u001B[0m\u001B[1;33m(\u001B[0m\u001B[0mgrid\u001B[0m\u001B[1;33m,\u001B[0m \u001B[1;36m20\u001B[0m\u001B[1;33m,\u001B[0m \u001B[0mreplace\u001B[0m\u001B[1;33m=\u001B[0m\u001B[1;32mFalse\u001B[0m\u001B[1;33m)\u001B[0m\u001B[1;33m\u001B[0m\u001B[1;33m\u001B[0m\u001B[0m\n\u001B[0m",
      "\u001B[1;32mmtrand.pyx\u001B[0m in \u001B[0;36mnumpy.random.mtrand.RandomState.choice\u001B[1;34m()\u001B[0m\n",
      "\u001B[1;31mValueError\u001B[0m: Cannot take a larger sample than population when 'replace=False'"
     ]
    }
   ],
   "source": [
    "np.random.choice(grid, 20, replace=False)"
   ]
  },
  {
   "cell_type": "markdown",
   "id": "devoted-president",
   "metadata": {},
   "source": [
    "With replacement:"
   ]
  },
  {
   "cell_type": "code",
   "execution_count": 20,
   "id": "convertible-rider",
   "metadata": {},
   "outputs": [
    {
     "data": {
      "text/plain": [
       "array([0.5, 0.7, 0.5, 0.2, 0.5, 0.8, 0.7, 0.4, 0.6, 0. , 0.3, 0. , 0.7,\n",
       "       1. , 0. , 0.9, 0.1, 0.9, 0.2, 0.6])"
      ]
     },
     "execution_count": 20,
     "metadata": {},
     "output_type": "execute_result"
    }
   ],
   "source": [
    "np.random.choice(grid, 20, replace=True)"
   ]
  },
  {
   "cell_type": "markdown",
   "id": "equipped-embassy",
   "metadata": {},
   "source": [
    "Let's create 1,000 points between -10 and 10"
   ]
  },
  {
   "cell_type": "code",
   "execution_count": 25,
   "id": "descending-motivation",
   "metadata": {},
   "outputs": [
    {
     "data": {
      "text/plain": [
       "(array([ 9.91991992,  9.93993994,  9.95995996,  9.97997998, 10.        ]),\n",
       " array([-10.        ,  -9.97997998,  -9.95995996,  -9.93993994,\n",
       "         -9.91991992]))"
      ]
     },
     "execution_count": 25,
     "metadata": {},
     "output_type": "execute_result"
    }
   ],
   "source": [
    "x = np.linspace(-10, 10, 1000) # linspace() returns evenly-spaced numbers over a specified interval\n",
    "x[-5:], x[:5]"
   ]
  },
  {
   "cell_type": "markdown",
   "id": "intensive-ceremony",
   "metadata": {},
   "source": [
    "## Task 3 -- Get familiarized with  Matplotlib  (display various graphics)"
   ]
  },
  {
   "cell_type": "markdown",
   "id": "union-collins",
   "metadata": {},
   "source": [
    "The plot() function is used to draw points (markers) in a diagram. By default, the plot() function draws a line from point to point. The function takes parameters for specifying points in the diagram. Parameter 1 is an array containing the points on the x-axis. Parameter 2 is an array containing the points on the y-axis."
   ]
  },
  {
   "cell_type": "code",
   "execution_count": 26,
   "id": "interracial-prince",
   "metadata": {},
   "outputs": [
    {
     "data": {
      "image/png": "[encoded data removed]",
      "text/plain": [
       "<Figure size 432x288 with 1 Axes>"
      ]
     },
     "metadata": {
      "needs_background": "light"
     },
     "output_type": "display_data"
    }
   ],
   "source": [
    "import matplotlib.pyplot as plt\n",
    "x = [1, 2]\n",
    "y = [1, 5]\n",
    "plt.plot(x, y)\n",
    "plt.show()"
   ]
  },
  {
   "cell_type": "markdown",
   "id": "hawaiian-danish",
   "metadata": {},
   "source": [
    "*Other example where we modify the line style and the color:*"
   ]
  },
  {
   "cell_type": "code",
   "execution_count": 27,
   "id": "central-maine",
   "metadata": {},
   "outputs": [
    {
     "data": {
      "image/png": "[encoded data removed]",
      "text/plain": [
       "<Figure size 432x288 with 1 Axes>"
      ]
     },
     "metadata": {
      "needs_background": "light"
     },
     "output_type": "display_data"
    }
   ],
   "source": [
    "import matplotlib.pyplot as plt\n",
    "import numpy as np\n",
    "x = np.random.randint(low=1, high=20, size=30)\n",
    "plt.plot(x, color = 'blue', linewidth=3, linestyle='dashed')\n",
    "plt.show()"
   ]
  },
  {
   "cell_type": "markdown",
   "id": "norman-speech",
   "metadata": {},
   "source": [
    "## Task 4 -- Get familiarized with Pytorch tensors (creation and manipulation)"
   ]
  },
  {
   "cell_type": "code",
   "execution_count": 28,
   "id": "colored-civilization",
   "metadata": {},
   "outputs": [],
   "source": [
    "import torch"
   ]
  },
  {
   "cell_type": "markdown",
   "id": "mineral-assembly",
   "metadata": {},
   "source": [
    " ***Creation Examples:***"
   ]
  },
  {
   "cell_type": "code",
   "execution_count": 31,
   "id": "adolescent-adelaide",
   "metadata": {},
   "outputs": [
    {
     "name": "stdout",
     "output_type": "stream",
     "text": [
      "<class 'torch.Tensor'>\n",
      "tensor([[0., 0., 0., 0.],\n",
      "        [0., 0., 0., 0.],\n",
      "        [0., 0., 0., 0.]])\n"
     ]
    }
   ],
   "source": [
    "x = torch.empty(3, 4)\n",
    "print(type(x))\n",
    "print(x)\n"
   ]
  },
  {
   "cell_type": "code",
   "execution_count": 32,
   "id": "surface-harvest",
   "metadata": {},
   "outputs": [
    {
     "name": "stdout",
     "output_type": "stream",
     "text": [
      "tensor([[0., 0., 0.],\n",
      "        [0., 0., 0.]])\n"
     ]
    }
   ],
   "source": [
    "zeros = torch.zeros(2, 3)\n",
    "print(zeros)"
   ]
  },
  {
   "cell_type": "code",
   "execution_count": 33,
   "id": "forty-aviation",
   "metadata": {},
   "outputs": [
    {
     "name": "stdout",
     "output_type": "stream",
     "text": [
      "tensor([[1., 1., 1.],\n",
      "        [1., 1., 1.]])\n"
     ]
    }
   ],
   "source": [
    "ones = torch.ones(2, 3)\n",
    "print(ones)"
   ]
  },
  {
   "cell_type": "code",
   "execution_count": 34,
   "id": "consecutive-programming",
   "metadata": {},
   "outputs": [
    {
     "name": "stdout",
     "output_type": "stream",
     "text": [
      "tensor([[0.3126, 0.3791, 0.3087],\n",
      "        [0.0736, 0.4216, 0.0691]])\n"
     ]
    }
   ],
   "source": [
    "torch.manual_seed(1729)\n",
    "random = torch.rand(2, 3)\n",
    "print(random)"
   ]
  },
  {
   "cell_type": "markdown",
   "id": "vocational-tuition",
   "metadata": {},
   "source": [
    "Observe the last example with the seed specified. Run the following example and observe the “random” values generated:"
   ]
  },
  {
   "cell_type": "code",
   "execution_count": 35,
   "id": "billion-sunday",
   "metadata": {},
   "outputs": [
    {
     "name": "stdout",
     "output_type": "stream",
     "text": [
      "tensor([[0.7576, 0.2793, 0.4031],\n",
      "        [0.7347, 0.0293, 0.7999]])\n",
      "tensor([[0.3971, 0.7544, 0.5695],\n",
      "        [0.4388, 0.6387, 0.5247]])\n",
      "tensor([[0.7576, 0.2793, 0.4031],\n",
      "        [0.7347, 0.0293, 0.7999]])\n",
      "tensor([[0.3971, 0.7544, 0.5695],\n",
      "        [0.4388, 0.6387, 0.5247]])\n"
     ]
    }
   ],
   "source": [
    "torch.manual_seed(1)\n",
    "random1 = torch.rand(2, 3)\n",
    "print(random1)\n",
    "\n",
    "random2 = torch.rand(2, 3)\n",
    "print(random2)\n",
    "\n",
    "torch.manual_seed(1)\n",
    "random3 = torch.rand(2, 3)\n",
    "print(random3)\n",
    "\n",
    "random4 = torch.rand(2, 3)\n",
    "print(random4)"
   ]
  },
  {
   "cell_type": "markdown",
   "id": "whole-immigration",
   "metadata": {},
   "source": [
    "***Tensor Shapes***\n",
    "\n",
    "On performing operations on two or more tensors, they will need to be of the same shape - that is, having the same number of dimensions and the same number of cells in each dimension. For that, we have the `torch.*_like()` methods:\n"
   ]
  },
  {
   "cell_type": "code",
   "execution_count": 37,
   "id": "nonprofit-fleece",
   "metadata": {},
   "outputs": [
    {
     "name": "stdout",
     "output_type": "stream",
     "text": [
      "torch.Size([2, 2, 3])\n",
      "tensor([[[0., 0., 0.],\n",
      "         [0., 0., 0.]],\n",
      "\n",
      "        [[0., 0., 0.],\n",
      "         [0., 0., 0.]]])\n",
      "torch.Size([2, 2, 3])\n",
      "tensor([[[0., 0., 0.],\n",
      "         [0., 0., 0.]],\n",
      "\n",
      "        [[0., 0., 0.],\n",
      "         [0., 0., 0.]]])\n",
      "torch.Size([2, 2, 3])\n",
      "tensor([[[0., 0., 0.],\n",
      "         [0., 0., 0.]],\n",
      "\n",
      "        [[0., 0., 0.],\n",
      "         [0., 0., 0.]]])\n",
      "torch.Size([2, 2, 3])\n",
      "tensor([[[1., 1., 1.],\n",
      "         [1., 1., 1.]],\n",
      "\n",
      "        [[1., 1., 1.],\n",
      "         [1., 1., 1.]]])\n",
      "torch.Size([2, 2, 3])\n",
      "tensor([[[0.6826, 0.3051, 0.4635],\n",
      "         [0.4550, 0.5725, 0.4980]],\n",
      "\n",
      "        [[0.9371, 0.6556, 0.3138],\n",
      "         [0.1980, 0.4162, 0.2843]]])\n"
     ]
    }
   ],
   "source": [
    "x = torch.empty(2, 2, 3)\n",
    "print(x.shape)\n",
    "print(x)\n",
    "\n",
    "empty_like_x = torch.empty_like(x)\n",
    "print(empty_like_x.shape)\n",
    "print(empty_like_x)\n",
    "\n",
    "zeros_like_x = torch.zeros_like(x)\n",
    "print(zeros_like_x.shape)\n",
    "print(zeros_like_x)\n",
    "\n",
    "ones_like_x = torch.ones_like(x)\n",
    "print(ones_like_x.shape)\n",
    "print(ones_like_x)\n",
    "\n",
    "rand_like_x = torch.rand_like(x)\n",
    "print(rand_like_x.shape)\n",
    "print(rand_like_x)\n"
   ]
  },
  {
   "cell_type": "markdown",
   "id": "detected-committee",
   "metadata": {},
   "source": [
    "***Moving to GPU***\n",
    "\n",
    "   First, we should check whether a GPU is available, with the is_available() method.\n",
    "\n",
    "   **If you do not have a CUDA-compatible GPU and CUDA drivers installed, the executable cells in this section will not execute any GPU-related code.**\n"
   ]
  },
  {
   "cell_type": "code",
   "execution_count": 40,
   "id": "armed-opposition",
   "metadata": {},
   "outputs": [
    {
     "name": "stdout",
     "output_type": "stream",
     "text": [
      "Sorry, CPU only.\n"
     ]
    }
   ],
   "source": [
    "if torch.cuda.is_available():\n",
    "    print('We have a GPU!')\n",
    "else:\n",
    "    print('Sorry, CPU only.')"
   ]
  },
  {
   "cell_type": "markdown",
   "id": "expressed-minority",
   "metadata": {},
   "source": [
    "A common way to handle this situation is this: "
   ]
  },
  {
   "cell_type": "code",
   "execution_count": 41,
   "id": "healthy-assembly",
   "metadata": {},
   "outputs": [
    {
     "name": "stdout",
     "output_type": "stream",
     "text": [
      "Device: cpu\n",
      "tensor([[0.3398, 0.5239],\n",
      "        [0.7981, 0.7718]])\n"
     ]
    }
   ],
   "source": [
    "if torch.cuda.is_available():\n",
    "    my_device = torch.device('cuda')\n",
    "else:\n",
    "    my_device = torch.device('cpu')\n",
    "print('Device: {}'.format(my_device))\n",
    "\n",
    "x = torch.rand(2, 2, device=my_device)\n",
    "print(x)"
   ]
  },
  {
   "cell_type": "markdown",
   "id": "blessed-processing",
   "metadata": {},
   "source": [
    "## Task 5 -- Get familiarized with  PIL/PILLOW (python image library)"
   ]
  },
  {
   "cell_type": "markdown",
   "id": "unauthorized-institution",
   "metadata": {},
   "source": [
    "A. Display an image with pillow (the image must be in the same folder for these examples to run, and we considered the name of the image file `opera.jpg`):"
   ]
  },
  {
   "cell_type": "code",
   "execution_count": 45,
   "id": "hearing-ecuador",
   "metadata": {},
   "outputs": [
    {
     "name": "stdout",
     "output_type": "stream",
     "text": [
      "JPEG\n",
      "RGB\n",
      "(680, 442)\n"
     ]
    }
   ],
   "source": [
    "# load and show an image with Pillow\n",
    "from PIL import Image\n",
    "# load the image\n",
    "image = Image.open('opera.jpg')\n",
    "# summarize some details about the image\n",
    "print(image.format)\n",
    "print(image.mode)\n",
    "print(image.size)\n",
    "# show the image\n",
    "image.show()\n"
   ]
  },
  {
   "cell_type": "markdown",
   "id": "broken-package",
   "metadata": {},
   "source": [
    "B. Convert the image to a numpy array:"
   ]
  },
  {
   "cell_type": "code",
   "execution_count": null,
   "id": "abstract-proportion",
   "metadata": {},
   "outputs": [],
   "source": [
    "# load and display an image with Matplotlib\n",
    "from matplotlib import image\n",
    "from matplotlib import pyplot\n",
    "# load image as pixel array\n",
    "data = image.imread('opera.jpg')\n",
    "# summarize shape of the pixel array\n",
    "print(data.dtype)\n",
    "print(data.shape)\n",
    "# display the array of pixels as an image\n",
    "pyplot.imshow(data)\n",
    "pyplot.show()"
   ]
  },
  {
   "cell_type": "markdown",
   "id": "respective-relief",
   "metadata": {},
   "source": [
    "C. Resize an image to a specific dimension:"
   ]
  },
  {
   "cell_type": "code",
   "execution_count": 2,
   "id": "floral-cooler",
   "metadata": {
    "scrolled": true
   },
   "outputs": [
    {
     "ename": "FileNotFoundError",
     "evalue": "[Errno 2] No such file or directory: 'opera.jpg'",
     "output_type": "error",
     "traceback": [
      "\u001B[0;31m---------------------------------------------------------------------------\u001B[0m",
      "\u001B[0;31mFileNotFoundError\u001B[0m                         Traceback (most recent call last)",
      "Cell \u001B[0;32mIn[2], line 4\u001B[0m\n\u001B[1;32m      2\u001B[0m \u001B[38;5;28;01mfrom\u001B[39;00m \u001B[38;5;21;01mPIL\u001B[39;00m \u001B[38;5;28;01mimport\u001B[39;00m Image\n\u001B[1;32m      3\u001B[0m \u001B[38;5;66;03m# load the image\u001B[39;00m\n\u001B[0;32m----> 4\u001B[0m image \u001B[38;5;241m=\u001B[39m \u001B[43mImage\u001B[49m\u001B[38;5;241;43m.\u001B[39;49m\u001B[43mopen\u001B[49m\u001B[43m(\u001B[49m\u001B[38;5;124;43m'\u001B[39;49m\u001B[38;5;124;43mopera.jpg\u001B[39;49m\u001B[38;5;124;43m'\u001B[39;49m\u001B[43m)\u001B[49m\n\u001B[1;32m      5\u001B[0m \u001B[38;5;66;03m# report the size of the image\u001B[39;00m\n\u001B[1;32m      6\u001B[0m \u001B[38;5;28mprint\u001B[39m(image\u001B[38;5;241m.\u001B[39msize)\n",
      "File \u001B[0;32m~/opt/anaconda3/envs/ai_labs/lib/python3.9/site-packages/PIL/Image.py:3227\u001B[0m, in \u001B[0;36mopen\u001B[0;34m(fp, mode, formats)\u001B[0m\n\u001B[1;32m   3224\u001B[0m     filename \u001B[38;5;241m=\u001B[39m fp\n\u001B[1;32m   3226\u001B[0m \u001B[38;5;28;01mif\u001B[39;00m filename:\n\u001B[0;32m-> 3227\u001B[0m     fp \u001B[38;5;241m=\u001B[39m \u001B[43mbuiltins\u001B[49m\u001B[38;5;241;43m.\u001B[39;49m\u001B[43mopen\u001B[49m\u001B[43m(\u001B[49m\u001B[43mfilename\u001B[49m\u001B[43m,\u001B[49m\u001B[43m \u001B[49m\u001B[38;5;124;43m\"\u001B[39;49m\u001B[38;5;124;43mrb\u001B[39;49m\u001B[38;5;124;43m\"\u001B[39;49m\u001B[43m)\u001B[49m\n\u001B[1;32m   3228\u001B[0m     exclusive_fp \u001B[38;5;241m=\u001B[39m \u001B[38;5;28;01mTrue\u001B[39;00m\n\u001B[1;32m   3230\u001B[0m \u001B[38;5;28;01mtry\u001B[39;00m:\n",
      "\u001B[0;31mFileNotFoundError\u001B[0m: [Errno 2] No such file or directory: 'opera.jpg'"
     ]
    }
   ],
   "source": [
    "# create a thumbnail of an image\n",
    "from PIL import Image\n",
    "# load the image\n",
    "image = Image.open('opera.jpg')\n",
    "# report the size of the image\n",
    "print(image.size)\n",
    "# create a thumbnail and preserve aspect ratio\n",
    "image.thumbnail((100,100))\n",
    "# report the size of the thumbnail\n",
    "print(image.size)"
   ]
  },
  {
   "cell_type": "markdown",
   "id": "4e0137be",
   "metadata": {},
   "source": [
    "D. Other operations can be found at the address [How to Load and Manipulate Images for Deep Learning in Python With PIL/Pillow](https://machinelearningmastery.com/how-to-load-and-manipulate-images-for-deep-learning-in-python-with-pil-pillow/) \n"
   ]
  },
  {
   "cell_type": "markdown",
   "id": "f8cf9237",
   "metadata": {},
   "source": [
    "# Task 6 -- An application: Bertrand's paradox (probability) "
   ]
  },
  {
   "cell_type": "code",
   "id": "08e262d2",
   "metadata": {
    "pycharm": {
     "name": "#%%\n"
    }
   },
   "source": [
    "  Consider the [Bertrand paradox](https://en.wikipedia.org/wiki/Bertrand_paradox_(probability)).\n",
    "\n",
    "   For each of the three cases generate a sample of 100 elements (chords) and compute the ratio of the chords bigger than the side of the equilateral triangle inscribed in the circle. \n",
    "   \n",
    "   The circle radius is equal with 1 and the set of chords will contain the cartesian coordinates of the edges of the chords. The origin of the coordinate system is in the origin of the circle.   \n",
    "\n",
    "   Draw using matplotlib each set of chords for each case respectively.\n"
   ],
   "execution_count": null,
   "outputs": []
  }
 ],
 "metadata": {
  "kernelspec": {
   "display_name": "Python 3 (ipykernel)",
   "language": "python",
   "name": "python3"
  },
  "language_info": {
   "codemirror_mode": {
    "name": "ipython",
    "version": 3
   },
   "file_extension": ".py",
   "mimetype": "text/x-python",
   "name": "python",
   "nbconvert_exporter": "python",
   "pygments_lexer": "ipython3",
   "version": "3.9.13"
  }
 },
 "nbformat": 4,
 "nbformat_minor": 5
}
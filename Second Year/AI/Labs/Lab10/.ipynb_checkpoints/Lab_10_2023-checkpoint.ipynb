{
 "cells": [
  {
   "cell_type": "markdown",
   "metadata": {},
   "source": [
    "# Lab 10\n",
    "\n",
    "## I. Hill Climbing\n",
    "\n",
    "\n",
    "The Hill Climbing Method is a simple optimization algorithm that tries to find the optimal solution to a problem by iteratively improving the current solution. It is a local search algorithm, which means that it only considers the solutions that are in the neighborhood of the current solution.\n",
    "\n",
    "Here's how the Hill Climbing Method works:\n",
    "\n",
    "1. Start with an initial state -- a candidate to the solution of the problem.\n",
    "\n",
    "2. Evaluate the current state to determine its quality or fitness.\n",
    "\n",
    "3. Generate a set of neighboring states by making small modifications to the current one.\n",
    "\n",
    "3. Evaluate the fitness of each neighboring state.\n",
    "\n",
    "4. Select the best neighboring state and make it the new current one.\n",
    "\n",
    "5. Repeat steps 3 to 5 until no further improvement can be made or a predefined stopping criterion is met.\n",
    "\n",
    "One of the main advantages of the Hill Climbing Method is its simplicity and ease of implementation. \n",
    "\n",
    "Consider the Bukin funcion N6, from the basic optimisation benchmark set:\n",
    "\n",
    "$$f(x,y) =  100 \\sqrt{|y-0.01 x^2|}+ 0.01 |x+10|.$$\n",
    "\n",
    "For $-15 \\leqq x \\leqq -5$ and $-3 \\leqq y \\leqq 3$ we have a minimum point $f(-10, 1) = 0$.\n",
    "\n",
    "\n",
    "*Ex. 1:*\n",
    "\n",
    "Implement a function $f$ for this function and represent it graphic using matplotlib."
   ]
  },
  {
   "cell_type": "markdown",
   "metadata": {},
   "source": [
    "*Ex. 2:* \n",
    "\n",
    "Write a Hill Climbing algorithm that finds this functions minimum.\n",
    "\n",
    "Hints: \n",
    "\n",
    "define a state, define a neighbour, choose a proper stop criteria before implementing the algorithm."
   ]
  },
  {
   "cell_type": "markdown",
   "metadata": {},
   "source": [
    "*Ex. 3:* for 1 point \n",
    "\n",
    "Implement a hill climbing algorithm for the knapsack problem. \n",
    "\n",
    "Hints:\n",
    "For n elements:\n",
    "\n",
    "we begin with an empty string of n zeros.\n",
    "\n",
    "a neighbour is constructed by switching of zero into an one at a position in the array\n",
    "\n",
    "Does it find the optimum? \n"
   ]
  },
  {
   "cell_type": "markdown",
   "metadata": {},
   "source": [
    "\n",
    "*Ex. 4:* for 1 point\n",
    "\n",
    "Improve it to increase the chances of finding the solution.  "
   ]
  },
  {
   "cell_type": "code",
   "execution_count": 106,
   "metadata": {},
   "outputs": [
    {
     "ename": "NameError",
     "evalue": "name 'term1' is not defined",
     "output_type": "error",
     "traceback": [
      "\u001b[0;31m---------------------------------------------------------------------------\u001b[0m",
      "\u001b[0;31mNameError\u001b[0m                                 Traceback (most recent call last)",
      "\u001b[0;32m/var/folders/5m/hdf175716038jlvhz_ylfzj40000gp/T/ipykernel_47953/2270362469.py\u001b[0m in \u001b[0;36m<module>\u001b[0;34m\u001b[0m\n\u001b[1;32m     10\u001b[0m \u001b[0my\u001b[0m \u001b[0;34m=\u001b[0m \u001b[0mnp\u001b[0m\u001b[0;34m.\u001b[0m\u001b[0mlinspace\u001b[0m\u001b[0;34m(\u001b[0m\u001b[0;34m-\u001b[0m\u001b[0;36m3\u001b[0m\u001b[0;34m,\u001b[0m \u001b[0;36m3\u001b[0m\u001b[0;34m,\u001b[0m \u001b[0;36m100\u001b[0m\u001b[0;34m)\u001b[0m\u001b[0;34m\u001b[0m\u001b[0;34m\u001b[0m\u001b[0m\n\u001b[1;32m     11\u001b[0m \u001b[0mX\u001b[0m\u001b[0;34m,\u001b[0m \u001b[0mY\u001b[0m \u001b[0;34m=\u001b[0m \u001b[0mnp\u001b[0m\u001b[0;34m.\u001b[0m\u001b[0mmeshgrid\u001b[0m\u001b[0;34m(\u001b[0m\u001b[0mx\u001b[0m\u001b[0;34m,\u001b[0m \u001b[0my\u001b[0m\u001b[0;34m)\u001b[0m\u001b[0;34m\u001b[0m\u001b[0;34m\u001b[0m\u001b[0m\n\u001b[0;32m---> 12\u001b[0;31m \u001b[0mZ\u001b[0m \u001b[0;34m=\u001b[0m \u001b[0mf\u001b[0m\u001b[0;34m(\u001b[0m\u001b[0mX\u001b[0m\u001b[0;34m,\u001b[0m \u001b[0mY\u001b[0m\u001b[0;34m)\u001b[0m\u001b[0;34m\u001b[0m\u001b[0;34m\u001b[0m\u001b[0m\n\u001b[0m\u001b[1;32m     13\u001b[0m \u001b[0;34m\u001b[0m\u001b[0m\n\u001b[1;32m     14\u001b[0m \u001b[0mfig\u001b[0m \u001b[0;34m=\u001b[0m \u001b[0mplt\u001b[0m\u001b[0;34m.\u001b[0m\u001b[0mfigure\u001b[0m\u001b[0;34m(\u001b[0m\u001b[0mfigsize\u001b[0m\u001b[0;34m=\u001b[0m\u001b[0;34m(\u001b[0m\u001b[0;36m8\u001b[0m\u001b[0;34m,\u001b[0m \u001b[0;36m6\u001b[0m\u001b[0;34m)\u001b[0m\u001b[0;34m)\u001b[0m\u001b[0;34m\u001b[0m\u001b[0;34m\u001b[0m\u001b[0m\n",
      "\u001b[0;32m/var/folders/5m/hdf175716038jlvhz_ylfzj40000gp/T/ipykernel_47953/2270362469.py\u001b[0m in \u001b[0;36mf\u001b[0;34m(x, y)\u001b[0m\n\u001b[1;32m      5\u001b[0m     \u001b[0mt1\u001b[0m \u001b[0;34m=\u001b[0m \u001b[0;36m100\u001b[0m \u001b[0;34m*\u001b[0m \u001b[0mnp\u001b[0m\u001b[0;34m.\u001b[0m\u001b[0msqrt\u001b[0m\u001b[0;34m(\u001b[0m\u001b[0mnp\u001b[0m\u001b[0;34m.\u001b[0m\u001b[0mabs\u001b[0m\u001b[0;34m(\u001b[0m\u001b[0my\u001b[0m \u001b[0;34m-\u001b[0m \u001b[0;36m0.01\u001b[0m \u001b[0;34m*\u001b[0m \u001b[0mx\u001b[0m\u001b[0;34m**\u001b[0m\u001b[0;36m2\u001b[0m\u001b[0;34m)\u001b[0m\u001b[0;34m)\u001b[0m\u001b[0;34m\u001b[0m\u001b[0;34m\u001b[0m\u001b[0m\n\u001b[1;32m      6\u001b[0m     \u001b[0mt2\u001b[0m \u001b[0;34m=\u001b[0m \u001b[0;36m0.01\u001b[0m \u001b[0;34m*\u001b[0m \u001b[0mnp\u001b[0m\u001b[0;34m.\u001b[0m\u001b[0mabs\u001b[0m\u001b[0;34m(\u001b[0m\u001b[0mx\u001b[0m \u001b[0;34m+\u001b[0m \u001b[0;36m10\u001b[0m\u001b[0;34m)\u001b[0m\u001b[0;34m\u001b[0m\u001b[0;34m\u001b[0m\u001b[0m\n\u001b[0;32m----> 7\u001b[0;31m     \u001b[0;32mreturn\u001b[0m \u001b[0mterm1\u001b[0m \u001b[0;34m+\u001b[0m \u001b[0mterm2\u001b[0m\u001b[0;34m\u001b[0m\u001b[0;34m\u001b[0m\u001b[0m\n\u001b[0m\u001b[1;32m      8\u001b[0m \u001b[0;34m\u001b[0m\u001b[0m\n\u001b[1;32m      9\u001b[0m \u001b[0mx\u001b[0m \u001b[0;34m=\u001b[0m \u001b[0mnp\u001b[0m\u001b[0;34m.\u001b[0m\u001b[0mlinspace\u001b[0m\u001b[0;34m(\u001b[0m\u001b[0;34m-\u001b[0m\u001b[0;36m15\u001b[0m\u001b[0;34m,\u001b[0m \u001b[0;34m-\u001b[0m\u001b[0;36m5\u001b[0m\u001b[0;34m,\u001b[0m \u001b[0;36m100\u001b[0m\u001b[0;34m)\u001b[0m\u001b[0;34m\u001b[0m\u001b[0;34m\u001b[0m\u001b[0m\n",
      "\u001b[0;31mNameError\u001b[0m: name 'term1' is not defined"
     ]
    }
   ],
   "source": [
    "import numpy as np\n",
    "import matplotlib.pyplot as plt\n",
    "\n",
    "def f(x, y):\n",
    "    t1 = 100 * np.sqrt(np.abs(y - 0.01 * x**2))\n",
    "    t2 = 0.01 * np.abs(x + 10)\n",
    "    return t1 + t2\n",
    "\n",
    "x = np.linspace(-15, -5, 100)\n",
    "y = np.linspace(-3, 3, 100)\n",
    "X, Y = np.meshgrid(x, y)\n",
    "Z = f(X, Y)\n",
    "\n",
    "fig = plt.figure(figsize=(8, 6))\n",
    "ax = fig.add_subplot(projection='3d')\n",
    "ax.plot_surface(X, Y, Z, cmap='viridis')\n",
    "ax.set_xlabel('x')\n",
    "ax.set_ylabel('y')\n",
    "ax.set_zlabel('f(x,y)')\n",
    "plt.show()"
   ]
  },
  {
   "cell_type": "code",
   "execution_count": 102,
   "metadata": {},
   "outputs": [
    {
     "name": "stdout",
     "output_type": "stream",
     "text": [
      "Local minimum found.\n",
      "((-6.609239272101478, 0.4347342510544514), 4.601386676123547)\n"
     ]
    }
   ],
   "source": [
    "# Ex. 2:\n",
    "# Write a Hill Climbing algorithm that finds this functions minimum.\n",
    "# Hints: define a state, define a neighbour, choose a proper stop criteria before implementing the algorithm.\n",
    "\n",
    "import random\n",
    "import math\n",
    "\n",
    "def get_random_start():\n",
    "    x = random.uniform(-15, -5)\n",
    "    y = random.uniform(-3, 3)\n",
    "    return x, y\n",
    "\n",
    "def get_neighbors(x, y, step_size):\n",
    "    neighbors = []\n",
    "    for dx, dy in [(step_size, 0), (-step_size, 0), (0, step_size), (0, -step_size)]:\n",
    "        neighbor = (x + dx, y + dy)\n",
    "        if neighbor[0] >= -15 and neighbor[0] <= -5 and neighbor[1] >= -3 and neighbor[1] <= 3:\n",
    "            neighbors.append(neighbor)\n",
    "    return neighbors\n",
    "\n",
    "def hill_climbing(step_size=0.1):\n",
    "    current_state = get_random_start()\n",
    "    best_fitness = f(*current_state)\n",
    "    while True:\n",
    "        neighbors = get_neighbors(*current_state, step_size=step_size)\n",
    "        if not neighbors:\n",
    "            print(\"Local minimum found.\")\n",
    "            return current_state, best_fitness\n",
    "        neighbor_fitnesses = [f(*neighbor) for neighbor in neighbors]\n",
    "        best_neighbor_fitness = min(neighbor_fitnesses)\n",
    "        if best_neighbor_fitness < best_fitness:\n",
    "            best_fitness = best_neighbor_fitness\n",
    "            current_state = neighbors[neighbor_fitnesses.index(best_neighbor_fitness)]\n",
    "        else:\n",
    "            print(\"Local minimum found.\")\n",
    "            return current_state, best_fitness\n",
    "\n",
    "print(hill_climbing())"
   ]
  },
  {
   "cell_type": "code",
   "execution_count": 95,
   "metadata": {},
   "outputs": [
    {
     "name": "stdout",
     "output_type": "stream",
     "text": [
      "[1, 1, 0, 0, 1] 55\n"
     ]
    }
   ],
   "source": [
    "# Ex. 3: for 1 point\n",
    "# Implement a hill climbing algorithm for the knapsack problem.\n",
    "# Hints: For n elements: we begin with an empty string of n zeros, a neighbour is constructed by switching of zero into an one at a position in the array. Does it find the optimum?\n",
    "\n",
    "import random\n",
    "\n",
    "def knapsack_fitness(state, values, weights, capacity):\n",
    "    total_weight = sum(weights[i] for i in range(len(state)) if state[i])\n",
    "    if total_weight > capacity:\n",
    "        return 0\n",
    "    else:\n",
    "        return sum(values[i] for i in range(len(state)) if state[i])\n",
    "    \n",
    "def knapsack_hill_climbing(values, weights, capacity, max_iterations):\n",
    "    n = len(values)\n",
    "    state = [0] * n \n",
    "    current_fitness = knapsack_fitness(state, values, weights, capacity)\n",
    "    \n",
    "    for i in range(max_iterations):\n",
    "        # selecting the best neighbor as the new state\n",
    "        neighbor = state.copy()\n",
    "        index = random.randint(0, n - 1)\n",
    "        neighbor[index] = 1 - neighbor[index]\n",
    "        neighbor_fitness = knapsack_fitness(neighbor, values, weights, capacity)\n",
    "        \n",
    "        if neighbor_fitness > current_fitness:\n",
    "            state = neighbor\n",
    "            current_fitness = neighbor_fitness\n",
    "    \n",
    "    return state, current_fitness\n",
    "\n",
    "n = 20\n",
    "values = np.array([10, 25, 15, 30, 20])\n",
    "weights = np.array([5, 10, 8, 15, 12])\n",
    "capacity = 30\n",
    "max_iterations = 1000\n",
    "\n",
    "best_state, best_fitness = knapsack_hill_climbing(values, weights, capacity, max_iterations)\n",
    "print(best_state, best_fitness)\n"
   ]
  },
  {
   "cell_type": "code",
   "execution_count": 103,
   "metadata": {},
   "outputs": [
    {
     "name": "stdout",
     "output_type": "stream",
     "text": [
      "[1, 0, 1, 1, 0] 55\n"
     ]
    }
   ],
   "source": [
    "# Ex. 4: for 1 point\n",
    "# Improve it to increase the chances of finding the solution.\n",
    "\n",
    "import random\n",
    "import numpy as np\n",
    "\n",
    "def knapsack_fitness(state, values, weights, capacity):\n",
    "    total_weight = sum(weights[i] for i in range(len(state)) if state[i])\n",
    "    if total_weight > capacity:\n",
    "        return 0\n",
    "    else:\n",
    "        return sum(values[i] for i in range(len(state)) if state[i])\n",
    "    \n",
    "def knapsack_stochastic_hill_climbing(values, weights, capacity, max_iterations):\n",
    "    n = len(values)\n",
    "    state = [0] * n  \n",
    "    current_fitness = knapsack_fitness(state, values, weights, capacity)\n",
    "    \n",
    "    for i in range(max_iterations):\n",
    "        # randomly choose a neighbor with probability proportional to its fitness\n",
    "        neighbors = []\n",
    "        for j in range(n):\n",
    "            neighbor = state.copy()\n",
    "            neighbor[j] = 1 - neighbor[j]\n",
    "            neighbors.append(neighbor)\n",
    "        \n",
    "        fitnesses = [knapsack_fitness(neighbor, values, weights, capacity) for neighbor in neighbors]\n",
    "        probabilities = [fitness / sum(fitnesses) for fitness in fitnesses]\n",
    "        index = np.random.choice(n, p=probabilities)\n",
    "        \n",
    "        neighbor_fitness = fitnesses[index]\n",
    "        if neighbor_fitness > current_fitness:\n",
    "            state = neighbors[index]\n",
    "            current_fitness = neighbor_fitness\n",
    "    \n",
    "    return state, current_fitness\n",
    "\n",
    "n = 20\n",
    "values = np.array([10, 25, 15, 30, 20])\n",
    "weights = np.array([5, 10, 8, 15, 12])\n",
    "capacity = 30\n",
    "max_iterations = 1000\n",
    "\n",
    "best_state, best_fitness = knapsack_stochastic_hill_climbing(values, weights, capacity, max_iterations)\n",
    "print(best_state, best_fitness)\n"
   ]
  }
 ],
 "metadata": {
  "kernelspec": {
   "display_name": "Python 3 (ipykernel)",
   "language": "python",
   "name": "python3"
  },
  "language_info": {
   "codemirror_mode": {
    "name": "ipython",
    "version": 3
   },
   "file_extension": ".py",
   "mimetype": "text/x-python",
   "name": "python",
   "nbconvert_exporter": "python",
   "pygments_lexer": "ipython3",
   "version": "3.9.13"
  }
 },
 "nbformat": 4,
 "nbformat_minor": 2
}
